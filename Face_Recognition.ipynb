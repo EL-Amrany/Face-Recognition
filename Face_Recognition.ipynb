{
  "nbformat": 4,
  "nbformat_minor": 0,
  "metadata": {
    "colab": {
      "provenance": [],
      "collapsed_sections": []
    },
    "kernelspec": {
      "name": "python3",
      "display_name": "Python 3"
    },
    "language_info": {
      "name": "python"
    }
  },
  "cells": [
    {
      "cell_type": "markdown",
      "source": [
        "## 1 - Packages\n",
        "\n"
      ],
      "metadata": {
        "id": "VS9g3StDSSkn"
      }
    },
    {
      "cell_type": "code",
      "source": [
        "from tensorflow.keras.models import Sequential\n",
        "from tensorflow.keras.layers import Conv2D, ZeroPadding2D, Activation, Input, concatenate\n",
        "from tensorflow.keras.models import Model\n",
        "from tensorflow.keras.layers import BatchNormalization\n",
        "from tensorflow.keras.layers import MaxPooling2D, AveragePooling2D\n",
        "from tensorflow.keras.layers import Concatenate\n",
        "from tensorflow.keras.layers import Lambda, Flatten, Dense\n",
        "from tensorflow.keras.initializers import glorot_uniform\n",
        "from tensorflow.keras.layers import Layer\n",
        "from tensorflow.keras import backend as K\n",
        "K.set_image_data_format('channels_last')\n",
        "import os\n",
        "import numpy as np\n",
        "from numpy import genfromtxt\n",
        "import pandas as pd\n",
        "import tensorflow as tf\n",
        "import PIL\n",
        "\n",
        "%matplotlib inline\n",
        "%load_ext autoreload\n",
        "%autoreload 2"
      ],
      "metadata": {
        "id": "amnuxBCRSZIL"
      },
      "execution_count": 2,
      "outputs": []
    },
    {
      "cell_type": "code",
      "source": [
        "from google.colab import drive\n",
        "drive.mount('/content/drive/')"
      ],
      "metadata": {
        "id": "Diq1cqPLYAo5"
      },
      "execution_count": null,
      "outputs": []
    },
    {
      "cell_type": "markdown",
      "source": [
        "## 2 - Encoding Face Images into a 128-Dimensional Vector\n",
        "\n",
        "### 2.1 - Using a ConvNet to Compute Encodings"
      ],
      "metadata": {
        "id": "hAE1KYz8S6zm"
      }
    },
    {
      "cell_type": "code",
      "source": [
        "from tensorflow.keras.models import model_from_json\n",
        "\n",
        "json_file = open('/content/drive/MyDrive/Face_Recognition/home/jovyan/work/W4A1/keras-facenet-h5/model.json', 'r')\n",
        "loaded_model_json = json_file.read()\n",
        "json_file.close()\n",
        "model = model_from_json(loaded_model_json)\n",
        "model.load_weights('/content/drive/MyDrive/Face_Recognition/home/jovyan/work/W4A1/keras-facenet-h5/model.h5')"
      ],
      "metadata": {
        "id": "8tWjAqDUSdVq"
      },
      "execution_count": 6,
      "outputs": []
    },
    {
      "cell_type": "code",
      "source": [
        "print(model.inputs)\n",
        "print(model.outputs)"
      ],
      "metadata": {
        "colab": {
          "base_uri": "https://localhost:8080/"
        },
        "id": "Sepo2q8CZF6J",
        "outputId": "e93e7bbc-b801-42b9-d27f-9043a1b1a941"
      },
      "execution_count": 7,
      "outputs": [
        {
          "output_type": "stream",
          "name": "stdout",
          "text": [
            "[<KerasTensor: shape=(None, 160, 160, 3) dtype=float32 (created by layer 'input_1')>]\n",
            "[<KerasTensor: shape=(None, 128) dtype=float32 (created by layer 'Bottleneck_BatchNorm')>]\n"
          ]
        }
      ]
    },
    {
      "cell_type": "code",
      "source": [
        "FRmodel = model"
      ],
      "metadata": {
        "id": "wzXHtj0zZaxE"
      },
      "execution_count": 8,
      "outputs": []
    },
    {
      "cell_type": "markdown",
      "source": [
        "## 3 - Applying the Model\n",
        "\n",
        "### 3.1 - Face Verification\n",
        "\n",
        "\n",
        "\n"
      ],
      "metadata": {
        "id": "Oh_k_kaPZemy"
      }
    },
    {
      "cell_type": "code",
      "source": [
        "def img_to_encoding(image_path, model):\n",
        "    img = tf.keras.preprocessing.image.load_img(image_path, target_size=(160, 160))\n",
        "    img = np.around(np.array(img) / 255.0, decimals=12)\n",
        "    x_train = np.expand_dims(img, axis=0)\n",
        "    embedding = model.predict_on_batch(x_train)\n",
        "    return embedding / np.linalg.norm(embedding, ord=2)"
      ],
      "metadata": {
        "id": "PoMrko_GZdpB"
      },
      "execution_count": 9,
      "outputs": []
    },
    {
      "cell_type": "code",
      "source": [
        "database = {}\n",
        "database[\"Cristiano Ronaldo\"] = img_to_encoding(\"/content/drive/MyDrive/croppedMostTrue/Cristiano Ronaldo/Cristiano Ronaldo1.png\", FRmodel)\n",
        "database[\"Lionel Messi\"] = img_to_encoding(\"/content/drive/MyDrive/croppedMostTrue/Lionel Messi/Lionel Messi1.png\", FRmodel)\n",
        "database[\"Didier Drogba\"] = img_to_encoding(\"/content/drive/MyDrive/croppedMostTrue/Didier Drogba/Didier Drogba11.png\", FRmodel)\n",
        "database[\"Andress Iniesta\"] = img_to_encoding(\"/content/drive/MyDrive/croppedMostTrue/Andreas Iniesta/Andreas Iniesta10.png\", FRmodel)\n",
        "database[\"Mohammed Salah\"] = img_to_encoding(\"/content/drive/MyDrive/croppedMostTrue/Mohamed Salah/Mohamed Salah1.png\", FRmodel)\n",
        "database[\"Pavel Nedved\"] = img_to_encoding(\"/content/drive/MyDrive/croppedMostTrue/Pavel Nedved/Pavel Nedved1.png\", FRmodel)\n",
        "database[\"Pele\"] = img_to_encoding(\"/content/drive/MyDrive/croppedMostTrue/Pele/Edson Arantes do Nascimento301.png\", FRmodel)\n",
        "database[\"Ronaldinho\"] = img_to_encoding(\"/content/drive/MyDrive/croppedMostTrue/Ronaldinho/Ronaldinho1.png\", FRmodel)\n",
        "database[\"Roberto Carlos\"] = img_to_encoding(\"/content/drive/MyDrive/croppedMostTrue/Roberto Carlos/Roberto Carlos1.png\", FRmodel)\n",
        "database[\"Samuel Eto\"] = img_to_encoding(\"/content/drive/MyDrive/croppedMostTrue/Samuel Eto/Samuel Eto1.png\", FRmodel)\n",
        "database[\"Zlatan Ibrahimovitc\"] = img_to_encoding(\"/content/drive/MyDrive/croppedMostTrue/Zlatan Ibrahimovic/Zlatan Ibrahimovic1.png\", FRmodel)\n",
        "database[\"Diego Maradona\"] = img_to_encoding(\"/content/drive/MyDrive/croppedMostTrue/Diego Maradona/Diego Maradona1.png\", FRmodel)"
      ],
      "metadata": {
        "id": "mUohRKsoa8gZ"
      },
      "execution_count": 10,
      "outputs": []
    },
    {
      "cell_type": "code",
      "source": [
        "cri = tf.keras.preprocessing.image.load_img(\"/content/drive/MyDrive/croppedMostTrue/Cristiano Ronaldo/Cristiano Ronaldo107.png\", target_size=(160, 160))"
      ],
      "metadata": {
        "id": "Z825SBk7hXe2"
      },
      "execution_count": 31,
      "outputs": []
    },
    {
      "cell_type": "code",
      "source": [
        "cri"
      ],
      "metadata": {
        "colab": {
          "base_uri": "https://localhost:8080/",
          "height": 177
        },
        "id": "wFmif9elhx11",
        "outputId": "e6ecdc40-0af7-49fb-827f-69361e570b6a"
      },
      "execution_count": 32,
      "outputs": [
        {
          "output_type": "execute_result",
          "data": {
            "text/plain": [
              "<PIL.Image.Image image mode=RGB size=160x160 at 0x7F4E6F306750>"
            ],
            "image/png": "[encoded data removed]"
          },
          "metadata": {},
          "execution_count": 32
        }
      ]
    },
    {
      "cell_type": "code",
      "source": [
        "np.around(np.array(cri) / 255.0, decimals=12).shape"
      ],
      "metadata": {
        "colab": {
          "base_uri": "https://localhost:8080/"
        },
        "id": "VnF38e5Vh_Fn",
        "outputId": "353a431b-be07-409b-a280-ff97f42c5488"
      },
      "execution_count": 13,
      "outputs": [
        {
          "output_type": "execute_result",
          "data": {
            "text/plain": [
              "(160, 160, 3)"
            ]
          },
          "metadata": {},
          "execution_count": 13
        }
      ]
    },
    {
      "cell_type": "markdown",
      "source": [
        "## ***This  Function will be used to verify  identity given the ident***"
      ],
      "metadata": {
        "id": "l9k3O4w9iO8D"
      }
    },
    {
      "cell_type": "code",
      "source": [
        "\n",
        "def verify(image_path, identity, database, model):\n",
        "    \"\"\"\n",
        "    Function that verifies if the person on the \"image_path\" image is \"identity\".\n",
        "    \n",
        "    Arguments:\n",
        "        image_path -- path to an image\n",
        "        identity -- string, name of the person you'd like to verify the identity. Has to be an employee who works in the office.\n",
        "        database -- python dictionary mapping names of allowed people's names (strings) to their encodings (vectors).\n",
        "        model -- your Inception model instance in Keras\n",
        "    \n",
        "    Returns:\n",
        "        dist -- distance between the image_path and the image of \"identity\" in the database.\n",
        "        door_open -- True, if the door should open. False otherwise.\n",
        "    \"\"\"\n",
        "    # Step 1: Compute the encoding for the image. Use img_to_encoding() see example above. (≈ 1 line)\n",
        "    encoding = img_to_encoding(image_path, model)\n",
        "    # Step 2: Compute distance with identity's image (≈ 1 line)\n",
        "    dist = tf.linalg.norm(encoding-database[identity])\n",
        "    # Step 3: Open the door if dist < 0.7, else don't open (≈ 3 lines)\n",
        "    if dist<0.90:\n",
        "        print(\"It's \" + str(identity) + \", welcome in!\")\n",
        "        door_open = True\n",
        "    else:\n",
        "        print(\"It's not \" + str(identity) + \", please go away\")\n",
        "        door_open = False\n",
        "    return dist, door_open\n",
        "\n",
        "    \n",
        "    \n"
      ],
      "metadata": {
        "id": "V1V8bJOaiBS4"
      },
      "execution_count": 29,
      "outputs": []
    },
    {
      "cell_type": "code",
      "source": [
        "verify(\"/content/drive/MyDrive/croppedMostTrue/Cristiano Ronaldo/Cristiano Ronaldo104.png\", \"Cristiano Ronaldo\", database, FRmodel)"
      ],
      "metadata": {
        "colab": {
          "base_uri": "https://localhost:8080/"
        },
        "id": "8W3c9et11M4a",
        "outputId": "1b6ffdaf-0ad0-4945-ffd8-3d4fdcd5f9c8"
      },
      "execution_count": 30,
      "outputs": [
        {
          "output_type": "stream",
          "name": "stdout",
          "text": [
            "It's Cristiano Ronaldo, welcome in!\n"
          ]
        },
        {
          "output_type": "execute_result",
          "data": {
            "text/plain": [
              "(<tf.Tensor: shape=(), dtype=float32, numpy=0.8733634>, True)"
            ]
          },
          "metadata": {},
          "execution_count": 30
        }
      ]
    },
    {
      "cell_type": "code",
      "source": [
        "verify(\"/content/drive/MyDrive/croppedMostTrue/Didier Drogba/Didier Drogba11.png\", \"Cristiano Ronaldo\", database, FRmodel)"
      ],
      "metadata": {
        "colab": {
          "base_uri": "https://localhost:8080/"
        },
        "id": "-p4k9iQA2cPL",
        "outputId": "93785765-734d-4824-bca2-f6e6541473c4"
      },
      "execution_count": 33,
      "outputs": [
        {
          "output_type": "stream",
          "name": "stdout",
          "text": [
            "It's not Cristiano Ronaldo, please go away\n"
          ]
        },
        {
          "output_type": "execute_result",
          "data": {
            "text/plain": [
              "(<tf.Tensor: shape=(), dtype=float32, numpy=1.3073534>, False)"
            ]
          },
          "metadata": {},
          "execution_count": 33
        }
      ]
    },
    {
      "cell_type": "code",
      "source": [
        "verify(\"/content/drive/MyDrive/croppedMostTrue/Samuel Eto/Samuel Eto11.png\",\"Didier Drogba\", database, FRmodel)"
      ],
      "metadata": {
        "colab": {
          "base_uri": "https://localhost:8080/"
        },
        "id": "DFhVfXc72ZAb",
        "outputId": "8e83a0ab-ab2f-437c-de8f-b014f4f66810"
      },
      "execution_count": 39,
      "outputs": [
        {
          "output_type": "stream",
          "name": "stdout",
          "text": [
            "It's not Didier Drogba, please go away\n"
          ]
        },
        {
          "output_type": "execute_result",
          "data": {
            "text/plain": [
              "(<tf.Tensor: shape=(), dtype=float32, numpy=1.1037625>, False)"
            ]
          },
          "metadata": {},
          "execution_count": 39
        }
      ]
    },
    {
      "cell_type": "markdown",
      "source": [
        "### 5.2 - Face *Recognition*"
      ],
      "metadata": {
        "id": "aQiIpIic3k__"
      }
    },
    {
      "cell_type": "code",
      "source": [
        "\n",
        "def who_is_it(image_path, database, model):\n",
        "    \"\"\"\n",
        "    Implements face recognition for the office by finding who is the person on the image_path image.\n",
        "    \n",
        "    Arguments:\n",
        "        image_path -- path to an image\n",
        "        database -- database containing image encodings along with the name of the person on the image\n",
        "        model -- your Inception model instance in Keras\n",
        "    \n",
        "    Returns:\n",
        "        min_dist -- the minimum distance between image_path encoding and the encodings from the database\n",
        "        identity -- string, the name prediction for the person on image_path\n",
        "    \"\"\"\n",
        "    \n",
        "\n",
        "    ## Step 1: Compute the target \"encoding\" for the image. Use img_to_encoding() see example above. ## (≈ 1 line)\n",
        "    encoding =  img_to_encoding(image_path, model)\n",
        "    \n",
        "    ## Step 2: Find the closest encoding ##\n",
        "    \n",
        "    # Initialize \"min_dist\" to a large value, say 100 (≈1 line)\n",
        "    min_dist = 100\n",
        "    \n",
        "    # Loop over the database dictionary's names and encodings.\n",
        "    for (name, db_enc) in database.items():\n",
        "        \n",
        "        # Compute L2 distance between the target \"encoding\" and the current db_enc from the database. (≈ 1 line)\n",
        "        dist = np.linalg.norm(db_enc-encoding)\n",
        "\n",
        "        # If this distance is less than the min_dist, then set min_dist to dist, and identity to name. (≈ 3 lines)\n",
        "        if dist<min_dist:\n",
        "            min_dist = dist\n",
        "            identity = name\n",
        "    print(min_dist)\n",
        "    if min_dist > 0.9:\n",
        "        print(\"Not in the database.\")\n",
        "    else:\n",
        "        print (\"it's \" + str(identity) + \", the distance is \" + str(min_dist))\n",
        "        \n",
        "    return min_dist, identity"
      ],
      "metadata": {
        "id": "3YVwSa4h3jkI"
      },
      "execution_count": 60,
      "outputs": []
    },
    {
      "cell_type": "code",
      "source": [
        "\n",
        "\n",
        "# BEGIN UNIT TEST\n",
        "# Test 1 with Younes pictures \n",
        "who_is_it(\"/content/drive/MyDrive/croppedMostTrue/Pele/Edson Arantes do Nascimento303.png\", database, FRmodel)\n",
        "\n",
        "# Test 2 with Younes pictures \n",
        "test1 = who_is_it(\"/content/drive/MyDrive/croppedMostTrue/Pavel Nedved/Pavel Nedved13.png\", database, FRmodel)\n",
        "assert test1[1] == \"Pavel Nedved\"\n",
        "\n",
        "# Test 3 with Younes pictures \n",
        "test2 = who_is_it(\"/content/drive/MyDrive/croppedMostTrue/Lionel Messi/Lionel Messi18.png\", database, FRmodel)\n",
        "assert test2[1] ==\"Lionel Messi\"\n",
        "# END UNIT TEST"
      ],
      "metadata": {
        "colab": {
          "base_uri": "https://localhost:8080/"
        },
        "id": "Kl4t3Vjd8Qx5",
        "outputId": "c0917764-6bce-4c49-ff21-499e86410769"
      },
      "execution_count": 61,
      "outputs": [
        {
          "output_type": "stream",
          "name": "stdout",
          "text": [
            "0.6243091\n",
            "it's Pele, the distance is 0.6243091\n",
            "0.801165\n",
            "it's Pavel Nedved, the distance is 0.801165\n",
            "0.51107365\n",
            "it's Lionel Messi, the distance is 0.51107365\n"
          ]
        }
      ]
    }
  ]
}